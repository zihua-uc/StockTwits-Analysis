{
 "cells": [
  {
   "cell_type": "code",
   "execution_count": 1,
   "metadata": {},
   "outputs": [],
   "source": [
    "import json\n",
    "import pandas as pd\n",
    "import boto3"
   ]
  },
  {
   "attachments": {},
   "cell_type": "markdown",
   "metadata": {},
   "source": [
    "### Setup AWS services"
   ]
  },
  {
   "cell_type": "code",
   "execution_count": 2,
   "metadata": {},
   "outputs": [
    {
     "data": {
      "text/plain": [
       "s3.Bucket(name='scraped-data-zh')"
      ]
     },
     "execution_count": 2,
     "metadata": {},
     "output_type": "execute_result"
    }
   ],
   "source": [
    "s3 = boto3.resource('s3')\n",
    "\n",
    "# Create s3 Bucket:\n",
    "bucket_name = 'scraped-data-zh'\n",
    "s3.create_bucket(Bucket=bucket_name)"
   ]
  },
  {
   "cell_type": "code",
   "execution_count": 3,
   "metadata": {},
   "outputs": [],
   "source": [
    "# Create lambda function\n",
    "aws_lambda = boto3.client('lambda')\n",
    "iam_client = boto3.client('iam')\n",
    "role = iam_client.get_role(RoleName='LabRole')\n",
    "\n",
    "# Open our Zipped directory\n",
    "with open('proj-deployment-package.zip', 'rb') as f:\n",
    "    lambda_zip = f.read()\n",
    "\n",
    "try:\n",
    "    # If function hasn't yet been created, create it\n",
    "    response = aws_lambda.create_function(\n",
    "        FunctionName='proj_scrape_data',\n",
    "        Runtime='python3.9',\n",
    "        Role=role['Role']['Arn'],\n",
    "        Handler='lambda_function.lambda_handler',\n",
    "        Code=dict(ZipFile=lambda_zip),\n",
    "        Timeout=300\n",
    "    )\n",
    "except aws_lambda.exceptions.ResourceConflictException:\n",
    "    # If function already exists, update it based on zip\n",
    "    # file contents\n",
    "    response = aws_lambda.update_function_code(\n",
    "    FunctionName='proj_scrape_data',\n",
    "    ZipFile=lambda_zip\n",
    "    )\n",
    "\n",
    "lambda_arn = response['FunctionArn']"
   ]
  },
  {
   "cell_type": "code",
   "execution_count": 4,
   "metadata": {},
   "outputs": [],
   "source": [
    "sfn = boto3.client('stepfunctions')\n",
    "\n",
    "def make_def(lambda_arn):\n",
    "    definition = {\n",
    "      \"Comment\": \"My State Machine\",\n",
    "      \"StartAt\": \"Map\",\n",
    "      \"States\": {\n",
    "        \"Map\": {\n",
    "          \"Type\": \"Map\",\n",
    "          \"End\": True,\n",
    "          \"Iterator\": {\n",
    "            \"StartAt\": \"Lambda Invoke\",\n",
    "            \"States\": {\n",
    "              \"Lambda Invoke\": {\n",
    "                \"Type\": \"Task\",\n",
    "                \"Resource\": \"arn:aws:states:::lambda:invoke\",\n",
    "                \"OutputPath\": \"$.Payload\",\n",
    "                \"Parameters\": {\n",
    "                  \"Payload.$\": \"$\",\n",
    "                  \"FunctionName\": lambda_arn\n",
    "                },\n",
    "                \"Retry\": [\n",
    "                  {\n",
    "                    \"ErrorEquals\": [\n",
    "                      \"Lambda.ServiceException\",\n",
    "                      \"Lambda.AWSLambdaException\",\n",
    "                      \"Lambda.SdkClientException\",\n",
    "                      \"Lambda.TooManyRequestsException\",\n",
    "                      \"States.TaskFailed\"\n",
    "                    ],\n",
    "                    \"IntervalSeconds\": 2,\n",
    "                    \"MaxAttempts\": 6,\n",
    "                    \"BackoffRate\": 2\n",
    "                  }\n",
    "                ],\n",
    "                \"End\": True\n",
    "              }\n",
    "            }\n",
    "          }\n",
    "        }\n",
    "      }\n",
    "    }\n",
    "    return definition"
   ]
  },
  {
   "cell_type": "code",
   "execution_count": 5,
   "metadata": {},
   "outputs": [],
   "source": [
    "# create step functions\n",
    "sf_def = make_def(lambda_arn)\n",
    "\n",
    "try:\n",
    "    response = sfn.create_state_machine(\n",
    "        name='data_scrape_sm',\n",
    "        definition=json.dumps(sf_def),\n",
    "        roleArn=role['Role']['Arn'],\n",
    "        type='EXPRESS'\n",
    "    )\n",
    "except sfn.exceptions.StateMachineAlreadyExists:\n",
    "    response = sfn.list_state_machines()\n",
    "    state_machine_arn = [sm['stateMachineArn'] \n",
    "                         for sm in response['stateMachines'] \n",
    "                         if sm['name'] == 'data_scrape_sm'][0]\n",
    "    response = sfn.update_state_machine(\n",
    "        stateMachineArn=state_machine_arn,\n",
    "        definition=json.dumps(sf_def),\n",
    "        roleArn=role['Role']['Arn']\n",
    "    )"
   ]
  },
  {
   "attachments": {},
   "cell_type": "markdown",
   "metadata": {},
   "source": [
    "### Use NASDAQ data to determine which stocks to track"
   ]
  },
  {
   "cell_type": "code",
   "execution_count": 6,
   "metadata": {},
   "outputs": [
    {
     "data": {
      "text/html": [
       "<div>\n",
       "<style scoped>\n",
       "    .dataframe tbody tr th:only-of-type {\n",
       "        vertical-align: middle;\n",
       "    }\n",
       "\n",
       "    .dataframe tbody tr th {\n",
       "        vertical-align: top;\n",
       "    }\n",
       "\n",
       "    .dataframe thead th {\n",
       "        text-align: right;\n",
       "    }\n",
       "</style>\n",
       "<table border=\"1\" class=\"dataframe\">\n",
       "  <thead>\n",
       "    <tr style=\"text-align: right;\">\n",
       "      <th></th>\n",
       "      <th>Symbol</th>\n",
       "      <th>Name</th>\n",
       "      <th>Last Sale</th>\n",
       "      <th>Net Change</th>\n",
       "      <th>% Change</th>\n",
       "      <th>Market Cap</th>\n",
       "      <th>Country</th>\n",
       "      <th>IPO Year</th>\n",
       "      <th>Volume</th>\n",
       "      <th>Sector</th>\n",
       "      <th>Industry</th>\n",
       "    </tr>\n",
       "  </thead>\n",
       "  <tbody>\n",
       "    <tr>\n",
       "      <th>19</th>\n",
       "      <td>AAPL</td>\n",
       "      <td>Apple Inc. Common Stock</td>\n",
       "      <td>$175.2445</td>\n",
       "      <td>2.2545</td>\n",
       "      <td>1.303%</td>\n",
       "      <td>3.038273e+12</td>\n",
       "      <td>United States</td>\n",
       "      <td>1980.0</td>\n",
       "      <td>25148439</td>\n",
       "      <td>Technology</td>\n",
       "      <td>Computer Manufacturing</td>\n",
       "    </tr>\n",
       "    <tr>\n",
       "      <th>4599</th>\n",
       "      <td>MSFT</td>\n",
       "      <td>Microsoft Corporation Common Stock</td>\n",
       "      <td>$331.515</td>\n",
       "      <td>5.5950</td>\n",
       "      <td>1.717%</td>\n",
       "      <td>2.464976e+12</td>\n",
       "      <td>United States</td>\n",
       "      <td>1986.0</td>\n",
       "      <td>19276086</td>\n",
       "      <td>Technology</td>\n",
       "      <td>Computer Software: Prepackaged Software</td>\n",
       "    </tr>\n",
       "    <tr>\n",
       "      <th>3078</th>\n",
       "      <td>GOOG</td>\n",
       "      <td>Alphabet Inc. Class C Capital Stock</td>\n",
       "      <td>$125.85</td>\n",
       "      <td>1.5000</td>\n",
       "      <td>1.206%</td>\n",
       "      <td>1.597917e+12</td>\n",
       "      <td>United States</td>\n",
       "      <td>2004.0</td>\n",
       "      <td>13406022</td>\n",
       "      <td>Technology</td>\n",
       "      <td>Computer Software: Programming Data Processing</td>\n",
       "    </tr>\n",
       "    <tr>\n",
       "      <th>3079</th>\n",
       "      <td>GOOGL</td>\n",
       "      <td>Alphabet Inc. Class A Common Stock</td>\n",
       "      <td>$125.115</td>\n",
       "      <td>1.6350</td>\n",
       "      <td>1.324%</td>\n",
       "      <td>1.588585e+12</td>\n",
       "      <td>United States</td>\n",
       "      <td>2004.0</td>\n",
       "      <td>17303800</td>\n",
       "      <td>Technology</td>\n",
       "      <td>Computer Software: Programming Data Processing</td>\n",
       "    </tr>\n",
       "    <tr>\n",
       "      <th>7145</th>\n",
       "      <td>V</td>\n",
       "      <td>Visa Inc.</td>\n",
       "      <td>$225.815</td>\n",
       "      <td>2.4350</td>\n",
       "      <td>1.09%</td>\n",
       "      <td>1.441643e+12</td>\n",
       "      <td>United States</td>\n",
       "      <td>NaN</td>\n",
       "      <td>2191942</td>\n",
       "      <td>Consumer Discretionary</td>\n",
       "      <td>Business Services</td>\n",
       "    </tr>\n",
       "  </tbody>\n",
       "</table>\n",
       "</div>"
      ],
      "text/plain": [
       "     Symbol                                 Name  Last Sale  Net Change  \\\n",
       "19     AAPL              Apple Inc. Common Stock  $175.2445      2.2545   \n",
       "4599   MSFT   Microsoft Corporation Common Stock   $331.515      5.5950   \n",
       "3078   GOOG  Alphabet Inc. Class C Capital Stock    $125.85      1.5000   \n",
       "3079  GOOGL   Alphabet Inc. Class A Common Stock   $125.115      1.6350   \n",
       "7145      V                            Visa Inc.   $225.815      2.4350   \n",
       "\n",
       "     % Change    Market Cap        Country  IPO Year    Volume  \\\n",
       "19     1.303%  3.038273e+12  United States    1980.0  25148439   \n",
       "4599   1.717%  2.464976e+12  United States    1986.0  19276086   \n",
       "3078   1.206%  1.597917e+12  United States    2004.0  13406022   \n",
       "3079   1.324%  1.588585e+12  United States    2004.0  17303800   \n",
       "7145    1.09%  1.441643e+12  United States       NaN   2191942   \n",
       "\n",
       "                      Sector                                        Industry  \n",
       "19                Technology                          Computer Manufacturing  \n",
       "4599              Technology         Computer Software: Prepackaged Software  \n",
       "3078              Technology  Computer Software: Programming Data Processing  \n",
       "3079              Technology  Computer Software: Programming Data Processing  \n",
       "7145  Consumer Discretionary                               Business Services  "
      ]
     },
     "execution_count": 6,
     "metadata": {},
     "output_type": "execute_result"
    }
   ],
   "source": [
    "nasdaq_data = pd.read_csv(\"nasdaq_screener_1685121443165.csv\")\n",
    "nasdaq_data.sort_values(by='Market Cap', ascending=False, inplace=True)\n",
    "nasdaq_data.head()"
   ]
  },
  {
   "cell_type": "code",
   "execution_count": 7,
   "metadata": {},
   "outputs": [
    {
     "data": {
      "text/plain": [
       "array(['AAPL', 'MSFT', 'GOOG', 'GOOGL', 'V', 'AMZN', 'VZ', 'NVDA',\n",
       "       'MBINO', 'BRK/A', 'BRK/B', 'MBINP', 'META', 'TSLA', 'MBINN', 'TSM',\n",
       "       'UNH', 'XOM', 'LLY', 'JNJ', 'JPM', 'WMT', 'NVO', 'MA', 'PG',\n",
       "       'AVGO', 'HD', 'NTES', 'CVX', 'ASML', 'ORCL', 'MRK', 'KO', 'PEP',\n",
       "       'ABBV', 'TECK', 'BAC', 'COST', 'CRM', 'PFE', 'BABA', 'MCD', 'NVS',\n",
       "       'AMD', 'CSCO', 'TMO', 'ACN', 'SHEL', 'TM', 'ADBE'], dtype=object)"
      ]
     },
     "execution_count": 7,
     "metadata": {},
     "output_type": "execute_result"
    }
   ],
   "source": [
    "nasdaq_data[\"Symbol\"][:50].values"
   ]
  },
  {
   "cell_type": "code",
   "execution_count": 8,
   "metadata": {},
   "outputs": [
    {
     "data": {
      "text/plain": [
       "[{'symbol': 'AAPL', 'num_queries': 200},\n",
       " {'symbol': 'MSFT', 'num_queries': 200},\n",
       " {'symbol': 'GOOG', 'num_queries': 200},\n",
       " {'symbol': 'GOOGL', 'num_queries': 200},\n",
       " {'symbol': 'V', 'num_queries': 200},\n",
       " {'symbol': 'AMZN', 'num_queries': 200},\n",
       " {'symbol': 'VZ', 'num_queries': 200},\n",
       " {'symbol': 'NVDA', 'num_queries': 200},\n",
       " {'symbol': 'MBINO', 'num_queries': 200},\n",
       " {'symbol': 'BRK/A', 'num_queries': 200},\n",
       " {'symbol': 'BRK/B', 'num_queries': 200},\n",
       " {'symbol': 'MBINP', 'num_queries': 200},\n",
       " {'symbol': 'META', 'num_queries': 200},\n",
       " {'symbol': 'TSLA', 'num_queries': 200},\n",
       " {'symbol': 'MBINN', 'num_queries': 200},\n",
       " {'symbol': 'TSM', 'num_queries': 200},\n",
       " {'symbol': 'UNH', 'num_queries': 200},\n",
       " {'symbol': 'XOM', 'num_queries': 200},\n",
       " {'symbol': 'LLY', 'num_queries': 200},\n",
       " {'symbol': 'JNJ', 'num_queries': 200},\n",
       " {'symbol': 'JPM', 'num_queries': 200},\n",
       " {'symbol': 'WMT', 'num_queries': 200},\n",
       " {'symbol': 'NVO', 'num_queries': 200},\n",
       " {'symbol': 'MA', 'num_queries': 200},\n",
       " {'symbol': 'PG', 'num_queries': 200},\n",
       " {'symbol': 'AVGO', 'num_queries': 200},\n",
       " {'symbol': 'HD', 'num_queries': 200},\n",
       " {'symbol': 'NTES', 'num_queries': 200},\n",
       " {'symbol': 'CVX', 'num_queries': 200},\n",
       " {'symbol': 'ASML', 'num_queries': 200},\n",
       " {'symbol': 'ORCL', 'num_queries': 200},\n",
       " {'symbol': 'MRK', 'num_queries': 200},\n",
       " {'symbol': 'KO', 'num_queries': 200},\n",
       " {'symbol': 'PEP', 'num_queries': 200},\n",
       " {'symbol': 'ABBV', 'num_queries': 200},\n",
       " {'symbol': 'TECK', 'num_queries': 200},\n",
       " {'symbol': 'BAC', 'num_queries': 200},\n",
       " {'symbol': 'COST', 'num_queries': 200},\n",
       " {'symbol': 'CRM', 'num_queries': 200},\n",
       " {'symbol': 'PFE', 'num_queries': 200},\n",
       " {'symbol': 'BABA', 'num_queries': 200},\n",
       " {'symbol': 'MCD', 'num_queries': 200},\n",
       " {'symbol': 'NVS', 'num_queries': 200},\n",
       " {'symbol': 'AMD', 'num_queries': 200},\n",
       " {'symbol': 'CSCO', 'num_queries': 200},\n",
       " {'symbol': 'TMO', 'num_queries': 200},\n",
       " {'symbol': 'ACN', 'num_queries': 200},\n",
       " {'symbol': 'SHEL', 'num_queries': 200},\n",
       " {'symbol': 'TM', 'num_queries': 200},\n",
       " {'symbol': 'ADBE', 'num_queries': 200}]"
      ]
     },
     "execution_count": 8,
     "metadata": {},
     "output_type": "execute_result"
    }
   ],
   "source": [
    "# symbols = ['AAPL', 'NVDA', 'TSLA', 'AMD', 'JNUG', 'JDST', 'LABU', 'QCOM', 'INTC', 'DGAZ']\n",
    "# Top 50 symbols on Nasdaq by Market CAP\n",
    "symbols = nasdaq_data[\"Symbol\"][:50].values\n",
    "\n",
    "num_queries = 200\n",
    "symbol_batches = [{'symbol': s, 'num_queries': 200} for s in symbols]\n",
    "symbol_batches"
   ]
  },
  {
   "attachments": {},
   "cell_type": "markdown",
   "metadata": {},
   "source": [
    "### Start Scraping"
   ]
  },
  {
   "cell_type": "code",
   "execution_count": 9,
   "metadata": {},
   "outputs": [],
   "source": [
    "# Get arn for Step Function state machine\n",
    "response = sfn.list_state_machines()\n",
    "state_machine_arn = [sm['stateMachineArn']\n",
    "                     for sm in response['stateMachines'] \n",
    "                     if sm['name'] == 'data_scrape_sm'][0]\n",
    "\n",
    "# Spread url batches across Lambda workers\n",
    "try:\n",
    "    response = sfn.start_sync_execution(\n",
    "        stateMachineArn=state_machine_arn,\n",
    "        name='data_scrape_res',\n",
    "        input=json.dumps(symbol_batches)\n",
    "    )\n",
    "except:\n",
    "    pass"
   ]
  }
 ],
 "metadata": {
  "kernelspec": {
   "display_name": "base",
   "language": "python",
   "name": "python3"
  },
  "language_info": {
   "codemirror_mode": {
    "name": "ipython",
    "version": 3
   },
   "file_extension": ".py",
   "mimetype": "text/x-python",
   "name": "python",
   "nbconvert_exporter": "python",
   "pygments_lexer": "ipython3",
   "version": "3.9.12"
  },
  "orig_nbformat": 4
 },
 "nbformat": 4,
 "nbformat_minor": 2
}
